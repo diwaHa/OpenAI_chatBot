{
 "cells": [
  {
   "cell_type": "code",
   "execution_count": null,
   "id": "469b6206-2b58-4f76-96cf-819ae699282a",
   "metadata": {},
   "outputs": [],
   "source": [
    "!pip install mysql-connector-python openai requests --quiet"
   ]
  },
  {
   "cell_type": "code",
   "execution_count": null,
   "id": "6619d1fd-1ba2-4b21-89fc-100f0e43539e",
   "metadata": {},
   "outputs": [],
   "source": [
    "!pip install python-dotenv -q"
   ]
  },
  {
   "cell_type": "code",
   "execution_count": 1,
   "id": "27e56a8a-33ec-4908-8628-1493098cb64a",
   "metadata": {},
   "outputs": [],
   "source": [
    "import json\n",
    "from openai import AzureOpenAI\n",
    "import requests\n",
    "from dotenv import load_dotenv\n",
    "import os"
   ]
  },
  {
   "cell_type": "code",
   "execution_count": 2,
   "id": "b4a2fbde-a527-4604-a1bd-f295c02a2da3",
   "metadata": {},
   "outputs": [
    {
     "name": "stdout",
     "output_type": "stream",
     "text": [
      "d213aa73d27b4facb3898449b963ea11\n"
     ]
    }
   ],
   "source": [
    "load_dotenv()\n",
    "print(os.environ.get('AZURE_OPENAI_KEY'))"
   ]
  },
  {
   "cell_type": "code",
   "execution_count": 3,
   "id": "47e20ad2-2f2f-47a3-9c69-c4d3b958d6b7",
   "metadata": {},
   "outputs": [],
   "source": [
    "endpoint = os.environ.get('ENDPOINT_URL')\n",
    "deployment = os.environ.get('DEPLOYMENT_NAME')\n",
    "api_key = os.environ.get('AZURE_OPENAI_KEY')"
   ]
  },
  {
   "cell_type": "code",
   "execution_count": 4,
   "id": "1f0352bd-708a-4d1f-aa19-7f51f23995ec",
   "metadata": {},
   "outputs": [],
   "source": [
    "client = AzureOpenAI(\n",
    "    azure_endpoint=endpoint,\n",
    "    api_key=api_key,\n",
    "    api_version=\"2023-07-01-preview\"\n",
    ")"
   ]
  },
  {
   "cell_type": "code",
   "execution_count": 5,
   "id": "3d6739b2-635a-413e-9013-336b5c517299",
   "metadata": {},
   "outputs": [],
   "source": [
    "def call_openai_function_calling(messages, tools):\n",
    "    response = client.chat.completions.create(\n",
    "        model=deployment,\n",
    "        messages=messages,\n",
    "        tools = tools,\n",
    "        tool_choice=\"auto\",\n",
    "        temperature=0\n",
    "    )\n",
    "    return response\n"
   ]
  },
  {
   "cell_type": "code",
   "execution_count": 6,
   "id": "72463f73-35c5-469b-8817-65cd3d691d43",
   "metadata": {},
   "outputs": [],
   "source": [
    "import mysql.connector\n",
    "\n",
    "def connect_to_database():\n",
    "# Establish a connection to the MySQL database\n",
    "    conn = mysql.connector.connect(\n",
    "        host=\"localhost\",\n",
    "        user=\"mysql-user\",\n",
    "        password=\"rootroot\",\n",
    "        database=\"plantmanager\"\n",
    "    )\n",
    "    return conn"
   ]
  },
  {
   "cell_type": "code",
   "execution_count": 13,
   "id": "0c29a107-1ca9-4256-8151-5d4f664fca83",
   "metadata": {},
   "outputs": [],
   "source": [
    "tools = [\n",
    "    {\n",
    "        \"type\": \"function\",\n",
    "        \"function\": {\n",
    "            \"name\": \"execute_query\",\n",
    "            \"description\": \"Executes a SQL query.\",\n",
    "            \"parameters\": {\n",
    "                \"type\": \"object\",\n",
    "                \"properties\": {\n",
    "                    \"query\": {\"type\": \"string\"}\n",
    "                },\n",
    "                \"required\": [\"query\"]\n",
    "            }\n",
    "        }\n",
    "    }\n",
    "    # {\n",
    "    #     \"type\": \"function\",\n",
    "    #     \"function\":{\n",
    "    #         \"name\": \"get_top_products_by_price\",\n",
    "    #         \"description\": \"Execute Query based on top Products\",\n",
    "    #         \"parameters\":{\n",
    "    #             \"type\": \"object\",\n",
    "    #             \"properties\":{\n",
    "                    \n",
    "    #             }\n",
    "    #         }\n",
    "    # }\n",
    "]"
   ]
  },
  {
   "cell_type": "code",
   "execution_count": 8,
   "id": "fcf6a80c-01ff-4dc5-9042-f9eec695a98d",
   "metadata": {},
   "outputs": [],
   "source": [
    "def get_table_names(conn):\n",
    "    cursor = conn.cursor()\n",
    "    cursor.execute(\"SHOW TABLES;\")\n",
    "    tables = [table[0] for table in cursor.fetchall()]\n",
    "    return tables\n",
    "\n",
    "def get_column_names(conn, table_name):\n",
    "    cursor = conn.cursor()\n",
    "    cursor.execute(f\"DESCRIBE {table_name};\")\n",
    "    columns = [column[0] for column in cursor.fetchall()]\n",
    "    return columns\n",
    "\n",
    "def get_database_info(conn):\n",
    "    table_dicts = []\n",
    "    table_names = get_table_names(conn)\n",
    "    for table_name in table_names:\n",
    "        columns_names = get_column_names(conn, table_name)\n",
    "        table_dicts.append({\"table_name\": table_name, \"column_names\": columns_names})\n",
    "    return table_dicts"
   ]
  },
  {
   "cell_type": "code",
   "execution_count": 9,
   "id": "8acfaebc-e5eb-4f32-a094-f6bb300c1b00",
   "metadata": {},
   "outputs": [
    {
     "name": "stdout",
     "output_type": "stream",
     "text": [
      "Table: machine_operation\n",
      "Columns: machine_id, operation_id\n",
      "Table: machines\n",
      "Columns: machine_id, machien_desc, machine_name\n",
      "Table: operations\n",
      "Columns: operation_id, operation_desc, operation_name\n",
      "Table: product_operation\n",
      "Columns: product_id, operation_id\n",
      "Table: product_rawmaterial\n",
      "Columns: product_id, rawmaterial_id\n",
      "Table: products\n",
      "Columns: product_id, pro_desc, pro_name, price\n",
      "Table: rawmaterials\n",
      "Columns: rawmaterial_id, raw_code, raw_name\n",
      "Table: role\n",
      "Columns: role_id, role\n",
      "Table: user\n",
      "Columns: user_id, contact_no, email, password, user_name\n",
      "Table: user_role\n",
      "Columns: user_id, role_id\n"
     ]
    }
   ],
   "source": [
    "conn = connect_to_database()\n",
    "database_schema_dict = get_database_info(conn)\n",
    "database_schema_string = \"\\n\".join(\n",
    "    [\n",
    "        f\"Table: {table['table_name']}\\nColumns: {', '.join(table['column_names'])}\"\n",
    "        for table in database_schema_dict\n",
    "    ]\n",
    ")\n",
    "print(database_schema_string)\n"
   ]
  },
  {
   "cell_type": "code",
   "execution_count": 10,
   "id": "9f925c19-f6a3-4fca-9c63-3e88534b9776",
   "metadata": {},
   "outputs": [],
   "source": [
    "def execute_query(conn,query):\n",
    "    conn = connect_to_database()\n",
    "    cursor = conn.cursor()\n",
    "    cursor.execute(query)\n",
    "    result = cursor.fetchall()\n",
    "    return result\n"
   ]
  },
  {
   "cell_type": "code",
   "execution_count": null,
   "id": "593b9309-3f2b-4cdc-8872-6ebf8972a079",
   "metadata": {},
   "outputs": [],
   "source": [
    "def handle_user_query(messages, tools):\n",
    "    chat_response = call_openai_function_calling(messages, tools)\n",
    "    function_call = chat_response.choices[0].message.function_call\n",
    "\n",
    "    if function_call:\n",
    "        function_name = function_call.name\n",
    "        function_args = json.loads(function_call.arguments)\n",
    "        if function_name == \"execute_query\":\n",
    "            query = function_args[\"query\"]\n",
    "            result = execute_query(query)\n",
    "            messages.append({\"role\": \"function\", \"name\": function_name, \"content\": str(result)})\n",
    "            return result\n",
    "    else:\n",
    "        return chat_response.choices[0].message.content"
   ]
  },
  {
   "cell_type": "code",
   "execution_count": 11,
   "id": "a4df4739-8a9f-4d46-b2d8-e60967d69f10",
   "metadata": {},
   "outputs": [],
   "source": [
    "def get_top_products_by_price(conn, limit=3):\n",
    "    \"\"\"\n",
    "    Fetch the top N products by price from the database.\n",
    "    \n",
    "    Parameters:\n",
    "    - conn: MySQL database connection object.\n",
    "    - limit: The number of top products to fetch (default is 3).\n",
    "    \n",
    "    Returns:\n",
    "    - List of tuples containing product names and their prices.\n",
    "    \"\"\"\n",
    "    query = f\"SELECT pro_name, price FROM products ORDER BY price DESC LIMIT {limit};\"\n",
    "    \n",
    "    cursor = conn.cursor()\n",
    "    cursor.execute(query)\n",
    "    result = cursor.fetchall()\n",
    "    return result"
   ]
  },
  {
   "cell_type": "code",
   "execution_count": 12,
   "id": "fbd13cf1-63ad-4d83-b950-76c127159eff",
   "metadata": {},
   "outputs": [
    {
     "name": "stdout",
     "output_type": "stream",
     "text": [
      "ChatCompletionMessage(content=None, role='assistant', function_call=None, tool_calls=[ChatCompletionMessageToolCall(id='call_YiizdmP1G6HP5zTFWMz2bV70', function=Function(arguments='{\"query\":\"SELECT product_name, price FROM products ORDER BY price DESC LIMIT 3\"}', name='execute_query'), type='function')])\n"
     ]
    }
   ],
   "source": [
    "messages = [\n",
    "    {\"role\": \"system\", \"content\": \"You are a helpful assistant connected to a MySQL database.\"},\n",
    "    {\"role\": \"user\", \"content\": \"Give me the top 3 product pricing\"}\n",
    "]\n",
    "response = call_openai_function_calling(messages,tools)\n",
    "\n",
    "response_message = response.choices[0].message\n",
    "\n",
    "print(response_message)"
   ]
  },
  {
   "cell_type": "code",
   "execution_count": 15,
   "id": "cf5417df-8bef-431c-a69c-f4ab2fc8ea79",
   "metadata": {},
   "outputs": [
    {
     "name": "stdout",
     "output_type": "stream",
     "text": [
      "[('Machine Delta', Decimal('499.99')), ('Device Alpha', Decimal('199.99')), ('Gadget X', Decimal('99.99'))]\n"
     ]
    }
   ],
   "source": [
    "query = \"SELECT pro_name, price FROM products ORDER BY price DESC LIMIT 3;\"\n",
    "top_product = execute_query(conn,query)\n",
    "print(top_product)\n"
   ]
  },
  {
   "cell_type": "code",
   "execution_count": null,
   "id": "506c0bc3-7fe3-4648-a971-5246a81f292d",
   "metadata": {},
   "outputs": [],
   "source": [
    "messages = []\n",
    "messages.append({\"role\": \"system\", \"content\": \"Don't make assumptions about what values to plug into functions. Ask for clarification if a user request is ambiguous.\"})\n",
    "messages.append({\"role\": \"user\", \"content\": \"Give the top 3 products by price\"})\n",
    "\n",
    "chat_response = call_openai_function_calling(messages,tools)\n",
    "\n",
    "tools_call = chat_response.choices[0].message.tool_calls\n",
    "\n",
    "if tools_call:\n",
    "\n",
    "  \n",
    "    \n",
    "                 \n",
    "\n"
   ]
  },
  {
   "cell_type": "code",
   "execution_count": 12,
   "id": "8df9fea6-32c2-43f0-b805-d06e531d3051",
   "metadata": {},
   "outputs": [
    {
     "ename": "ProgrammingError",
     "evalue": "1054 (42S22): Unknown column 'product_name' in 'field list'",
     "output_type": "error",
     "traceback": [
      "\u001b[0;31m---------------------------------------------------------------------------\u001b[0m",
      "\u001b[0;31mMySQLInterfaceError\u001b[0m                       Traceback (most recent call last)",
      "File \u001b[0;32m~/juypternb/jptenv/lib/python3.10/site-packages/mysql/connector/connection_cext.py:705\u001b[0m, in \u001b[0;36mCMySQLConnection.cmd_query\u001b[0;34m(self, query, raw, buffered, raw_as_string)\u001b[0m\n\u001b[1;32m    704\u001b[0m         query \u001b[38;5;241m=\u001b[39m query\u001b[38;5;241m.\u001b[39mencode(\u001b[38;5;124m\"\u001b[39m\u001b[38;5;124mutf-8\u001b[39m\u001b[38;5;124m\"\u001b[39m)\n\u001b[0;32m--> 705\u001b[0m     \u001b[38;5;28;43mself\u001b[39;49m\u001b[38;5;241;43m.\u001b[39;49m\u001b[43m_cmysql\u001b[49m\u001b[38;5;241;43m.\u001b[39;49m\u001b[43mquery\u001b[49m\u001b[43m(\u001b[49m\n\u001b[1;32m    706\u001b[0m \u001b[43m        \u001b[49m\u001b[43mquery\u001b[49m\u001b[43m,\u001b[49m\n\u001b[1;32m    707\u001b[0m \u001b[43m        \u001b[49m\u001b[43mraw\u001b[49m\u001b[38;5;241;43m=\u001b[39;49m\u001b[43mraw\u001b[49m\u001b[43m,\u001b[49m\n\u001b[1;32m    708\u001b[0m \u001b[43m        \u001b[49m\u001b[43mbuffered\u001b[49m\u001b[38;5;241;43m=\u001b[39;49m\u001b[43mbuffered\u001b[49m\u001b[43m,\u001b[49m\n\u001b[1;32m    709\u001b[0m \u001b[43m        \u001b[49m\u001b[43mraw_as_string\u001b[49m\u001b[38;5;241;43m=\u001b[39;49m\u001b[43mraw_as_string\u001b[49m\u001b[43m,\u001b[49m\n\u001b[1;32m    710\u001b[0m \u001b[43m        \u001b[49m\u001b[43mquery_attrs\u001b[49m\u001b[38;5;241;43m=\u001b[39;49m\u001b[38;5;28;43mself\u001b[39;49m\u001b[38;5;241;43m.\u001b[39;49m\u001b[43mquery_attrs\u001b[49m\u001b[43m,\u001b[49m\n\u001b[1;32m    711\u001b[0m \u001b[43m    \u001b[49m\u001b[43m)\u001b[49m\n\u001b[1;32m    712\u001b[0m \u001b[38;5;28;01mexcept\u001b[39;00m MySQLInterfaceError \u001b[38;5;28;01mas\u001b[39;00m err:\n",
      "\u001b[0;31mMySQLInterfaceError\u001b[0m: Unknown column 'product_name' in 'field list'",
      "\nThe above exception was the direct cause of the following exception:\n",
      "\u001b[0;31mProgrammingError\u001b[0m                          Traceback (most recent call last)",
      "Cell \u001b[0;32mIn[12], line 8\u001b[0m\n\u001b[1;32m      6\u001b[0m tool_query_string \u001b[38;5;241m=\u001b[39m json\u001b[38;5;241m.\u001b[39mloads(tools_call[\u001b[38;5;241m0\u001b[39m]\u001b[38;5;241m.\u001b[39mfunction\u001b[38;5;241m.\u001b[39marguments)[\u001b[38;5;124m'\u001b[39m\u001b[38;5;124mquery\u001b[39m\u001b[38;5;124m'\u001b[39m]\n\u001b[1;32m      7\u001b[0m \u001b[38;5;28;01mif\u001b[39;00m tool_function_name \u001b[38;5;241m==\u001b[39m \u001b[38;5;124m'\u001b[39m\u001b[38;5;124mexecute_query\u001b[39m\u001b[38;5;124m'\u001b[39m:\n\u001b[0;32m----> 8\u001b[0m      results \u001b[38;5;241m=\u001b[39m \u001b[43mexecute_query\u001b[49m\u001b[43m(\u001b[49m\u001b[43mconn\u001b[49m\u001b[43m,\u001b[49m\u001b[43mtool_query_string\u001b[49m\u001b[43m)\u001b[49m\n\u001b[1;32m      9\u001b[0m      messages\u001b[38;5;241m.\u001b[39mappend({\n\u001b[1;32m     10\u001b[0m        \u001b[38;5;124m\"\u001b[39m\u001b[38;5;124mrole\u001b[39m\u001b[38;5;124m\"\u001b[39m:\u001b[38;5;124m\"\u001b[39m\u001b[38;5;124mtool\u001b[39m\u001b[38;5;124m\"\u001b[39m, \n\u001b[1;32m     11\u001b[0m        \u001b[38;5;124m\"\u001b[39m\u001b[38;5;124mtool_call_id\u001b[39m\u001b[38;5;124m\"\u001b[39m:tool_call_id, \n\u001b[1;32m     12\u001b[0m        \u001b[38;5;124m\"\u001b[39m\u001b[38;5;124mname\u001b[39m\u001b[38;5;124m\"\u001b[39m: tool_function_name, \n\u001b[1;32m     13\u001b[0m        \u001b[38;5;124m\"\u001b[39m\u001b[38;5;124mcontent\u001b[39m\u001b[38;5;124m\"\u001b[39m:results\n\u001b[1;32m     14\u001b[0m    })\n\u001b[1;32m     15\u001b[0m      msg_content \u001b[38;5;241m=\u001b[39m response\u001b[38;5;241m.\u001b[39mchoices[\u001b[38;5;241m0\u001b[39m]\u001b[38;5;241m.\u001b[39mmessage\u001b[38;5;241m.\u001b[39mcontent\n",
      "Cell \u001b[0;32mIn[10], line 4\u001b[0m, in \u001b[0;36mexecute_query\u001b[0;34m(conn, query)\u001b[0m\n\u001b[1;32m      2\u001b[0m conn \u001b[38;5;241m=\u001b[39m connect_to_database()\n\u001b[1;32m      3\u001b[0m cursor \u001b[38;5;241m=\u001b[39m conn\u001b[38;5;241m.\u001b[39mcursor()\n\u001b[0;32m----> 4\u001b[0m \u001b[43mcursor\u001b[49m\u001b[38;5;241;43m.\u001b[39;49m\u001b[43mexecute\u001b[49m\u001b[43m(\u001b[49m\u001b[43mquery\u001b[49m\u001b[43m)\u001b[49m\n\u001b[1;32m      5\u001b[0m result \u001b[38;5;241m=\u001b[39m cursor\u001b[38;5;241m.\u001b[39mfetchall()\n\u001b[1;32m      6\u001b[0m \u001b[38;5;28;01mreturn\u001b[39;00m result\n",
      "File \u001b[0;32m~/juypternb/jptenv/lib/python3.10/site-packages/mysql/connector/cursor_cext.py:357\u001b[0m, in \u001b[0;36mCMySQLCursor.execute\u001b[0;34m(self, operation, params, multi)\u001b[0m\n\u001b[1;32m    352\u001b[0m             \u001b[38;5;28;01mraise\u001b[39;00m ProgrammingError(\n\u001b[1;32m    353\u001b[0m                 \u001b[38;5;124m\"\u001b[39m\u001b[38;5;124mNot all parameters were used in the SQL statement\u001b[39m\u001b[38;5;124m\"\u001b[39m\n\u001b[1;32m    354\u001b[0m             )\n\u001b[1;32m    356\u001b[0m \u001b[38;5;28;01mtry\u001b[39;00m:\n\u001b[0;32m--> 357\u001b[0m     result \u001b[38;5;241m=\u001b[39m \u001b[38;5;28;43mself\u001b[39;49m\u001b[38;5;241;43m.\u001b[39;49m\u001b[43m_connection\u001b[49m\u001b[38;5;241;43m.\u001b[39;49m\u001b[43mcmd_query\u001b[49m\u001b[43m(\u001b[49m\n\u001b[1;32m    358\u001b[0m \u001b[43m        \u001b[49m\u001b[43mstmt\u001b[49m\u001b[43m,\u001b[49m\n\u001b[1;32m    359\u001b[0m \u001b[43m        \u001b[49m\u001b[43mraw\u001b[49m\u001b[38;5;241;43m=\u001b[39;49m\u001b[38;5;28;43mself\u001b[39;49m\u001b[38;5;241;43m.\u001b[39;49m\u001b[43m_raw\u001b[49m\u001b[43m,\u001b[49m\n\u001b[1;32m    360\u001b[0m \u001b[43m        \u001b[49m\u001b[43mbuffered\u001b[49m\u001b[38;5;241;43m=\u001b[39;49m\u001b[38;5;28;43mself\u001b[39;49m\u001b[38;5;241;43m.\u001b[39;49m\u001b[43m_buffered\u001b[49m\u001b[43m,\u001b[49m\n\u001b[1;32m    361\u001b[0m \u001b[43m        \u001b[49m\u001b[43mraw_as_string\u001b[49m\u001b[38;5;241;43m=\u001b[39;49m\u001b[38;5;28;43mself\u001b[39;49m\u001b[38;5;241;43m.\u001b[39;49m\u001b[43m_raw_as_string\u001b[49m\u001b[43m,\u001b[49m\n\u001b[1;32m    362\u001b[0m \u001b[43m    \u001b[49m\u001b[43m)\u001b[49m\n\u001b[1;32m    363\u001b[0m \u001b[38;5;28;01mexcept\u001b[39;00m MySQLInterfaceError \u001b[38;5;28;01mas\u001b[39;00m err:\n\u001b[1;32m    364\u001b[0m     \u001b[38;5;28;01mraise\u001b[39;00m get_mysql_exception(\n\u001b[1;32m    365\u001b[0m         msg\u001b[38;5;241m=\u001b[39merr\u001b[38;5;241m.\u001b[39mmsg, errno\u001b[38;5;241m=\u001b[39merr\u001b[38;5;241m.\u001b[39merrno, sqlstate\u001b[38;5;241m=\u001b[39merr\u001b[38;5;241m.\u001b[39msqlstate\n\u001b[1;32m    366\u001b[0m     ) \u001b[38;5;28;01mfrom\u001b[39;00m \u001b[38;5;21;01merr\u001b[39;00m\n",
      "File \u001b[0;32m~/juypternb/jptenv/lib/python3.10/site-packages/mysql/connector/opentelemetry/context_propagation.py:97\u001b[0m, in \u001b[0;36mwith_context_propagation.<locals>.wrapper\u001b[0;34m(cnx, *args, **kwargs)\u001b[0m\n\u001b[1;32m     95\u001b[0m \u001b[38;5;66;03m# pylint: disable=possibly-used-before-assignment\u001b[39;00m\n\u001b[1;32m     96\u001b[0m \u001b[38;5;28;01mif\u001b[39;00m \u001b[38;5;129;01mnot\u001b[39;00m OTEL_ENABLED \u001b[38;5;129;01mor\u001b[39;00m \u001b[38;5;129;01mnot\u001b[39;00m cnx\u001b[38;5;241m.\u001b[39motel_context_propagation:\n\u001b[0;32m---> 97\u001b[0m     \u001b[38;5;28;01mreturn\u001b[39;00m \u001b[43mmethod\u001b[49m\u001b[43m(\u001b[49m\u001b[43mcnx\u001b[49m\u001b[43m,\u001b[49m\u001b[43m \u001b[49m\u001b[38;5;241;43m*\u001b[39;49m\u001b[43margs\u001b[49m\u001b[43m,\u001b[49m\u001b[43m \u001b[49m\u001b[38;5;241;43m*\u001b[39;49m\u001b[38;5;241;43m*\u001b[39;49m\u001b[43mkwargs\u001b[49m\u001b[43m)\u001b[49m\n\u001b[1;32m     99\u001b[0m current_span \u001b[38;5;241m=\u001b[39m trace\u001b[38;5;241m.\u001b[39mget_current_span()\n\u001b[1;32m    100\u001b[0m tp_header \u001b[38;5;241m=\u001b[39m \u001b[38;5;28;01mNone\u001b[39;00m\n",
      "File \u001b[0;32m~/juypternb/jptenv/lib/python3.10/site-packages/mysql/connector/connection_cext.py:713\u001b[0m, in \u001b[0;36mCMySQLConnection.cmd_query\u001b[0;34m(self, query, raw, buffered, raw_as_string)\u001b[0m\n\u001b[1;32m    705\u001b[0m     \u001b[38;5;28mself\u001b[39m\u001b[38;5;241m.\u001b[39m_cmysql\u001b[38;5;241m.\u001b[39mquery(\n\u001b[1;32m    706\u001b[0m         query,\n\u001b[1;32m    707\u001b[0m         raw\u001b[38;5;241m=\u001b[39mraw,\n\u001b[0;32m   (...)\u001b[0m\n\u001b[1;32m    710\u001b[0m         query_attrs\u001b[38;5;241m=\u001b[39m\u001b[38;5;28mself\u001b[39m\u001b[38;5;241m.\u001b[39mquery_attrs,\n\u001b[1;32m    711\u001b[0m     )\n\u001b[1;32m    712\u001b[0m \u001b[38;5;28;01mexcept\u001b[39;00m MySQLInterfaceError \u001b[38;5;28;01mas\u001b[39;00m err:\n\u001b[0;32m--> 713\u001b[0m     \u001b[38;5;28;01mraise\u001b[39;00m get_mysql_exception(\n\u001b[1;32m    714\u001b[0m         err\u001b[38;5;241m.\u001b[39merrno, msg\u001b[38;5;241m=\u001b[39merr\u001b[38;5;241m.\u001b[39mmsg, sqlstate\u001b[38;5;241m=\u001b[39merr\u001b[38;5;241m.\u001b[39msqlstate\n\u001b[1;32m    715\u001b[0m     ) \u001b[38;5;28;01mfrom\u001b[39;00m \u001b[38;5;21;01merr\u001b[39;00m\n\u001b[1;32m    716\u001b[0m \u001b[38;5;28;01mexcept\u001b[39;00m \u001b[38;5;167;01mAttributeError\u001b[39;00m \u001b[38;5;28;01mas\u001b[39;00m err:\n\u001b[1;32m    717\u001b[0m     addr \u001b[38;5;241m=\u001b[39m (\n\u001b[1;32m    718\u001b[0m         \u001b[38;5;28mself\u001b[39m\u001b[38;5;241m.\u001b[39m_unix_socket \u001b[38;5;28;01mif\u001b[39;00m \u001b[38;5;28mself\u001b[39m\u001b[38;5;241m.\u001b[39m_unix_socket \u001b[38;5;28;01melse\u001b[39;00m \u001b[38;5;124mf\u001b[39m\u001b[38;5;124m\"\u001b[39m\u001b[38;5;132;01m{\u001b[39;00m\u001b[38;5;28mself\u001b[39m\u001b[38;5;241m.\u001b[39m_host\u001b[38;5;132;01m}\u001b[39;00m\u001b[38;5;124m:\u001b[39m\u001b[38;5;132;01m{\u001b[39;00m\u001b[38;5;28mself\u001b[39m\u001b[38;5;241m.\u001b[39m_port\u001b[38;5;132;01m}\u001b[39;00m\u001b[38;5;124m\"\u001b[39m\n\u001b[1;32m    719\u001b[0m     )\n",
      "\u001b[0;31mProgrammingError\u001b[0m: 1054 (42S22): Unknown column 'product_name' in 'field list'"
     ]
    }
   ],
   "source": [
    "tools_call = response_message.tool_calls\n",
    "\n",
    "if tools_call:\n",
    "     tool_call_id = tools_call[0].id\n",
    "     tool_function_name = tools_call[0].function.name\n",
    "     tool_query_string = json.loads(tools_call[0].function.arguments)['query']\n",
    "     if tool_function_name == 'execute_query':\n",
    "          results = execute_query(conn,tool_query_string)\n",
    "          messages.append({\n",
    "            \"role\":\"tool\", \n",
    "            \"tool_call_id\":tool_call_id, \n",
    "            \"name\": tool_function_name, \n",
    "            \"content\":results\n",
    "        })\n",
    "             \n",
    "             \n",
    "         )\n",
    "          msg_content = response.choices[0].message.content\n",
    "          print(msg_content)\n",
    "         \n",
    "         "
   ]
  },
  {
   "cell_type": "code",
   "execution_count": null,
   "id": "e1a41a8f-d562-4c91-9f34-edea4593ec0f",
   "metadata": {},
   "outputs": [],
   "source": [
    "def get_table_names(conn):\n",
    "    cursor = conn.cursor()\n",
    "    cursor.execute(\"SHOW TABLES;\")\n",
    "    tables = [table[0] for table in cursor.fetchall()]\n",
    "    return tables\n",
    "\n",
    "def get_column_names(conn, table_name):\n",
    "    cursor = conn.cursor()\n",
    "    cursor.execute(f\"DESCRIBE {table_name};\")\n",
    "    columns = [column[0] for column in cursor.fetchall()]\n",
    "    return columns\n",
    "\n",
    "def get_database_info(conn):\n",
    "    table_dicts = []\n",
    "    table_names = get_table_names(conn)\n",
    "    for table_name in table_names:\n",
    "        columns_names = get_column_names(conn, table_name)\n",
    "        table_dicts.append({\"table_name\": table_name, \"column_names\": columns_names})\n",
    "    return table_dicts"
   ]
  },
  {
   "cell_type": "code",
   "execution_count": null,
   "id": "4f17a9bb-2315-4279-9e21-56cbc355d4d8",
   "metadata": {},
   "outputs": [],
   "source": [
    "conn = connect_to_database()\n",
    "database_schema_dict = get_database_info(conn)\n",
    "database_schema_string = \"\\n\".join(\n",
    "    [\n",
    "        f\"Table: {table['table_name']}\\nColumns: {', '.join(table['column_names'])}\"\n",
    "        for table in database_schema_dict\n",
    "    ]\n",
    ")\n",
    "print(database_schema_string)"
   ]
  },
  {
   "cell_type": "code",
   "execution_count": null,
   "id": "1f19dc6a-df9b-4ffe-94d3-840a8e73316d",
   "metadata": {},
   "outputs": [],
   "source": [
    "def get_table_names(conn):\n",
    "    \"\"\"Return a list of table names.\"\"\"\n",
    "    table_names = []\n",
    "    tables = conn.execute(\"SHOW TABLES;\")\n",
    "    for table in tables.fetchall():\n",
    "        table_names.append(table[0])\n",
    "    return table_names\n",
    "\n",
    "\n",
    "def get_column_names(conn, table_name):\n",
    "    \"\"\"Return a list of column names.\"\"\"\n",
    "    column_names = []\n",
    "    columns = conn.execute(f\"SHOW COLUMNS FROM {table_name};\").fetchall()\n",
    "    for col in columns:\n",
    "        column_names.append(col[1])\n",
    "    return column_names\n",
    "\n",
    "\n",
    "def get_database_info(conn):\n",
    "    \"\"\"Return a list of dicts containing the table name and columns for each table in the database.\"\"\"\n",
    "    table_dicts = []\n",
    "    for table_name in get_table_names(conn):\n",
    "        columns_names = get_column_names(conn, table_name)\n",
    "        table_dicts.append({\"table_name\": table_name, \"column_names\": columns_names})\n",
    "    return table_dicts"
   ]
  },
  {
   "cell_type": "code",
   "execution_count": null,
   "id": "57f1bf98-d33f-4012-9e86-e0dba55fdc1d",
   "metadata": {},
   "outputs": [],
   "source": [
    "def ask_database(conn, query):\n",
    "    \"\"\"Function to query SQLite database with a provided SQL query.\"\"\"\n",
    "    try:\n",
    "        results = str(conn.execute(query).fetchall())\n",
    "    except Exception as e:\n",
    "        results = f\"query failed with error: {e}\"\n",
    "    return results\n",
    "\n",
    "def execute_function_call(message):\n",
    "    if message[\"tool_calls\"][0][\"function\"][\"name\"] == \"ask_database\":\n",
    "        query = json.loads(message[\"tool_calls\"][0][\"function\"][\"arguments\"])[\"query\"]\n",
    "        results = ask_database(conn, query)\n",
    "    else:\n",
    "        results = f\"Error: function {message['tool_calls'][0]['function']['name']} does not exist\"\n",
    "    return results"
   ]
  },
  {
   "cell_type": "code",
   "execution_count": null,
   "id": "26d79086-74b1-4768-84b4-19637499222e",
   "metadata": {},
   "outputs": [],
   "source": [
    "tools = [\n",
    "    {\n",
    "        \"type\": \"function\",\n",
    "        \"function\": {\n",
    "            \"name\": \"ask_database\",\n",
    "            \"description\": \"Use this function to answer user questions about music. Input should be a fully formed SQL query.\",\n",
    "            \"parameters\": {\n",
    "                \"type\": \"object\",\n",
    "                \"properties\": {\n",
    "                    \"query\": {\n",
    "                        \"type\": \"string\",\n",
    "                        \"description\": f\"\"\"\n",
    "                                SQL query extracting info to answer the user's question.\n",
    "                                SQL should be written using this database schema:\n",
    "                                The query should be returned in plain text, not in JSON.\n",
    "                                \"\"\",\n",
    "                    }\n",
    "                },\n",
    "                \"required\": [\"query\"],\n",
    "            },\n",
    "        }\n",
    "    }\n",
    "]"
   ]
  },
  {
   "cell_type": "code",
   "execution_count": null,
   "id": "70c03976-ba8f-49b9-9e52-7d41ccd40a02",
   "metadata": {},
   "outputs": [],
   "source": [
    "# Fetching database schema information\n",
    "database_schema_dict = get_database_info(conn)\n",
    "\n",
    "# Formatting the schema information as a string\n",
    "database_schema_string = \"\\n\".join(\n",
    "    [\n",
    "        f\"Table: {table['table_name']}\\nColumns: {', '.join(table['column_names'])}\"\n",
    "        for table in database_schema_dict\n",
    "    ]\n",
    ")"
   ]
  },
  {
   "cell_type": "code",
   "execution_count": null,
   "id": "46927ee3-c77b-4c97-99c2-912d58b0fe61",
   "metadata": {},
   "outputs": [],
   "source": [
    "function_definitions = [\n",
    "    {\n",
    "        \"name\": \"get_top_product_pricing\",\n",
    "        \"description\": \"Get the top products based on pricing.\",\n",
    "        \"parameters\": {\n",
    "            \"type\": \"object\",\n",
    "            \"properties\": {\n",
    "                \"limit\": {\"type\": \"integer\", \"description\": \"The number of top products to fetch.\"}\n",
    "            },\n",
    "            \"required\": [\"limit\"]\n",
    "        }\n",
    "    }\n",
    "    \n",
    "]"
   ]
  },
  {
   "cell_type": "code",
   "execution_count": null,
   "id": "34e2cc3e-aa3d-45f3-8cfa-d2769c1464c4",
   "metadata": {},
   "outputs": [],
   "source": [
    "# def get_top_product_pricing(conn, limit=5):\n",
    "#     \"\"\"Fetch top products based on pricing.\"\"\"\n",
    "#     cursor = conn.cursor()\n",
    "#     query = f\"SELECT productName, price FROM product_rawmaterial ORDER BY price DESC LIMIT {limit};\"\n",
    "#     cursor.execute(query)\n",
    "#     results = cursor.fetchall()\n",
    "   \n",
    "#     return results\n",
    "\n",
    "cursor = conn.cursor(dictionary=True)\n",
    "def get_product_details_and_top_pricing():\n",
    "    query = \"SELECT product_name, product_description, price FROM products ORDER BY price DESC LIMIT 5\"\n",
    "    cursor.execute(query)\n",
    "    results = cursor.fetchall()\n",
    "    return results"
   ]
  },
  {
   "cell_type": "code",
   "execution_count": null,
   "id": "6f60a013-0b2a-43de-b6ba-0d6fdf4ce497",
   "metadata": {},
   "outputs": [],
   "source": [
    "# Simulate a user message and process it\n",
    "user_message = \"Give me the top product pricing\"\n",
    "\n",
    "if \"top product pricing\" in user_message.lower():\n",
    "    top_pricing_products = get_product_details_and_top_pricing()\n",
    "    print(\"Top Priced Products:\")\n",
    "    for product in top_pricing_products:\n",
    "        print(f\"Name: {product['product_name']}, Price: {product['price']}, Description: {product['product_description']}\")\n",
    "\n",
    "# Close the cursor and connection\n",
    "cursor.close()\n",
    "conn.close()\n"
   ]
  }
 ],
 "metadata": {
  "kernelspec": {
   "display_name": "Python 3 (ipykernel)",
   "language": "python",
   "name": "python3"
  },
  "language_info": {
   "codemirror_mode": {
    "name": "ipython",
    "version": 3
   },
   "file_extension": ".py",
   "mimetype": "text/x-python",
   "name": "python",
   "nbconvert_exporter": "python",
   "pygments_lexer": "ipython3",
   "version": "3.10.12"
  }
 },
 "nbformat": 4,
 "nbformat_minor": 5
}
