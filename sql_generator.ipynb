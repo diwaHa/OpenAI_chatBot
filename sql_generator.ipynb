{
 "cells": [
  {
   "cell_type": "code",
   "execution_count": 30,
   "id": "b6b5a3e8-78cb-4fbf-8544-34b5f184af07",
   "metadata": {},
   "outputs": [],
   "source": [
    "import json\n",
    "from openai import AzureOpenAI\n",
    "import requests\n",
    "from dotenv import load_dotenv\n",
    "import os\n",
    "from decimal import Decimal"
   ]
  },
  {
   "cell_type": "code",
   "execution_count": 2,
   "id": "2cbf0adb-d631-4065-b642-99757dfa0341",
   "metadata": {},
   "outputs": [
    {
     "name": "stdout",
     "output_type": "stream",
     "text": [
      "d213aa73d27b4facb3898449b963ea11\n"
     ]
    }
   ],
   "source": [
    "load_dotenv()\n",
    "print(os.environ.get('AZURE_OPENAI_KEY'))"
   ]
  },
  {
   "cell_type": "code",
   "execution_count": 3,
   "id": "21f78f3e-03eb-4f66-85bd-d521651219b1",
   "metadata": {},
   "outputs": [],
   "source": [
    "endpoint = os.environ.get('ENDPOINT_URL')\n",
    "deployment = os.environ.get('DEPLOYMENT_NAME')\n",
    "api_key = os.environ.get('AZURE_OPENAI_KEY')"
   ]
  },
  {
   "cell_type": "code",
   "execution_count": 4,
   "id": "d1b13389-62e9-40b4-bba0-bf947e2499aa",
   "metadata": {},
   "outputs": [],
   "source": [
    "client = AzureOpenAI(\n",
    "    azure_endpoint=endpoint,\n",
    "    api_key=api_key,\n",
    "    api_version=\"2023-07-01-preview\"\n",
    ")"
   ]
  },
  {
   "cell_type": "code",
   "execution_count": 5,
   "id": "c5d67bb4-1860-4aa1-b92c-f1141e15fb47",
   "metadata": {},
   "outputs": [],
   "source": [
    "def call_openai_function_calling(messages, tools):\n",
    "    response = client.chat.completions.create(\n",
    "        model=deployment,\n",
    "        messages=messages,\n",
    "        tools = tools,\n",
    "        tool_choice=\"auto\",\n",
    "        \n",
    "    )\n",
    "    return response"
   ]
  },
  {
   "cell_type": "code",
   "execution_count": 6,
   "id": "00fbd85a-84f1-403c-9f42-145796d1b245",
   "metadata": {},
   "outputs": [],
   "source": [
    "import mysql.connector\n",
    "\n",
    "def connect_to_database():\n",
    "# Establish a connection to the MySQL database\n",
    "    conn = mysql.connector.connect(\n",
    "        host=\"database-1.czjbva8mjsze.ap-south-1.rds.amazonaws.com\",\n",
    "        user=\"RZCvH6mU954tK\",\n",
    "        password=\"hDxBO2q08qWrHJRf\",\n",
    "        database=\"MRP_PROD\"\n",
    "    )\n",
    "    return conn"
   ]
  },
  {
   "cell_type": "code",
   "execution_count": 7,
   "id": "e01b3525-9bbb-4aa5-b54d-d6b61ec1e65e",
   "metadata": {},
   "outputs": [],
   "source": [
    "def get_table_names(conn):\n",
    "    cursor = conn.cursor()\n",
    "    cursor.execute(\"SHOW TABLES;\")\n",
    "    tables = [table[0] for table in cursor.fetchall()]\n",
    "    return tables\n",
    "\n",
    "def get_column_names(conn, table_name):\n",
    "    cursor = conn.cursor()\n",
    "    cursor.execute(f\"DESCRIBE {table_name};\")\n",
    "    columns = [column[0] for column in cursor.fetchall()]\n",
    "    return columns\n",
    "\n",
    "def get_database_info(conn):\n",
    "    table_dicts = []\n",
    "    table_names = get_table_names(conn)\n",
    "    for table_name in table_names:\n",
    "        columns_names = get_column_names(conn, table_name)\n",
    "        table_dicts.append({\"table_name\": table_name, \"column_names\": columns_names})\n",
    "    return table_dicts"
   ]
  },
  {
   "cell_type": "code",
   "execution_count": 8,
   "id": "daf44b75-3f07-442b-9683-38c82edb8302",
   "metadata": {},
   "outputs": [
    {
     "name": "stdout",
     "output_type": "stream",
     "text": [
      "Table: address\n",
      "Columns: id, city, country, pin_code, state, street, organization\n",
      "Table: bill\n",
      "Columns: id, balance_amount, bill_date, bill_number, bill_status, reference_number, source_of_supply, total, organization, purchase_order, supplier, warhouse\n",
      "Table: bill_row\n",
      "Columns: id, cost_per_unit, item_total, linked_quantity, quantity, tax_amount, bill, tax, variant\n",
      "Table: committed\n",
      "Columns: id, quantity, status, inventory_id, manufacturing_order, manufacturing_order_ingredient, purchase_order, purchase_order_row, sales_order, sales_order_row, committed, committed_serial_number, deadline, expected, expected_serial_number\n",
      "Table: config\n",
      "Columns: id, name, material_id, product_id\n",
      "Table: config_attributes\n",
      "Columns: id, config_name, config_value, variant_id\n",
      "Table: config_value\n",
      "Columns: id, value, config_id\n",
      "Table: customer\n",
      "Columns: id, company_name, contact_name, email, gst_number, gst_treatment, is_deleted, opening_balance_amount, outstanding_receivable_amount, phone_number, place_of_contact, unused_credits_receivable_amount, billing_address, organization, shipping_address\n",
      "Table: expected\n",
      "Columns: id, quantity, inventory_id, manufacturing_order, purchase_order, purchase_order_row, deadline, expected, expected_serial_number\n",
      "Table: inventory\n",
      "Columns: id, allocated_quantity_expected, allocated_quantity_in_stock, manufacturing_allocated_quantity_expected, manufacturing_quantity_expected, quantity_committed, quantity_expected, quantity_in_stock, quantity_missing_or_excess, reorder_point, value_in_stock, variant, warhouse\n",
      "Table: inventory_history\n",
      "Columns: id, balance_quantity, cost_per_price, movement_by, movement_date, quantity, value_in_stock, inventory_id\n",
      "Table: invoice\n",
      "Columns: id, invoice_date, invoice_number, place_of_supply, reference_number, total, customer, organization, sales_order, warhouse\n",
      "Table: invoice_row\n",
      "Columns: id, cost_per_unit, item_total, quantity, tax_amount, invoice, tax, variant\n",
      "Table: item_tax_preference\n",
      "Columns: id, tax_specification_type, material_id, product_id, tax\n",
      "Table: manufacturing_order\n",
      "Columns: id, additional_info, allocated_quantity, is_linked_to_sales_order, manufacturing_order_number, order_created_date, order_done_date, quantity, status, organization, sales_order_row_id, variant, warhouse\n",
      "Table: manufacturing_order_ingredient\n",
      "Columns: id, actual_quantity, cost, ingredient_availability, notes, planned_quantity, planned_quantity_per_unit, total_actual_quantity, manufacturing_order, variant\n",
      "Table: manufacturing_order_operation\n",
      "Columns: id, operation_status, planned_cost_per_unit, planned_time_per_unit, rank_column, total_actual_cost, total_actual_time, manufacturing_order, operation, resource\n",
      "Table: material\n",
      "Columns: id, description, deleted, purchasble, taxable, name, type, unit, default_supplier, organization\n",
      "Table: opening_stock\n",
      "Columns: id, quantity, value, inventory, variant, warhouse\n",
      "Table: operation\n",
      "Columns: id, deleted, operation_name, organization\n",
      "Table: organization\n",
      "Columns: id, created_at, primary_email, organization_name, phone_number, website\n",
      "Table: privilege\n",
      "Columns: id, module, privilege_name\n",
      "Table: product\n",
      "Columns: id, description, deleted, producible, purchasble, taxable, name, type, unit, default_supplier, organization\n",
      "Table: product_bom\n",
      "Columns: id, notes, quantity, product, variant\n",
      "Table: product_bom_variant\n",
      "Columns: product_bom_id, variant_id\n",
      "Table: product_operation\n",
      "Columns: id, cost_per_hour, operation_time, total_cost, operation, product, resource\n",
      "Table: product_operation_variant\n",
      "Columns: product_bom_id, variant_id\n",
      "Table: purchase_order\n",
      "Columns: id, billed_status, purchase_order_date, purchase_order_delivery_date, purchase_order_number, purchase_order_status, reference_number, source_of_supply, total, organization, supplier, warhouse\n",
      "Table: purchase_order_row\n",
      "Columns: id, allocated_quantity, cost_per_unit, item_total, quantity, quantity_billed, tax_amount, purchase_order, tax, variant\n",
      "Table: quotes\n",
      "Columns: id, place_of_supply, quotes_date, quotes_number, quotes_status, reference_number, total, customer, organization, sales_order, warhouse\n",
      "Table: quotes_row\n",
      "Columns: id, cost_per_unit, item_total, quantity, quantity_invoiced, tax_amount, quotes, tax, variant\n",
      "Table: resource\n",
      "Columns: id, cost_per_hour, deleted, resource_name, organization\n",
      "Table: role\n",
      "Columns: id, role_name, organization\n",
      "Table: role_privileges\n",
      "Columns: role_id, privileges_id\n",
      "Table: sales_order\n",
      "Columns: id, place_of_supply, reference_number, sales_order_date, sales_order_number, sales_order_status, total, customer, organization, warhouse, delivery_date\n",
      "Table: sales_order_row\n",
      "Columns: id, cost_per_unit, item_total, linked_manufacturing_order_id, linked_quantity, product_availability_status, quantity, quantity_invoiced, tax_amount, sales_order, tax, variant, quantity_billed\n",
      "Table: stock_adjustment\n",
      "Columns: id, adjustment_date, reason, stock_adjustment_number, total, warhouse\n",
      "Table: stock_adjustment_row\n",
      "Columns: id, cost_per_unit, item_total, quantity, stock_adjustment_id, variant\n",
      "Table: stock_transfer\n",
      "Columns: id, stock_transfer_number, transfer_date, destination_warhouse, source_warhouse\n",
      "Table: stock_transfer_row\n",
      "Columns: id, quantity, stock_transfer_id, variant\n",
      "Table: supplier\n",
      "Columns: id, company_name, contact_name, email, gst_number, gst_treatment, is_deleted, opening_balance_amount, outstanding_receivable_amount, phone_number, place_of_contact, unused_credits_receivable_amount, billing_address, organization, shipping_address\n",
      "Table: tax\n",
      "Columns: id, deleted, taxable, tax_name, tax_percentage, tax_specific_type, tax_type, organization\n",
      "Table: tax_group_tax_new\n",
      "Columns: tax_group_id, tax_id\n",
      "Table: tax_row\n",
      "Columns: id, amount, bill_row, invoice_row, purchaseorder_row, quotes_row, salesorder_row, tax\n",
      "Table: transaction_prefixe\n",
      "Columns: id, module, prefix, starting_number, organization\n",
      "Table: unit\n",
      "Columns: id, deleted, unit, organization\n",
      "Table: user\n",
      "Columns: id, email, admin, enabled, password, username, organization\n",
      "Table: user_role\n",
      "Columns: user_id, role_id\n",
      "Table: variant\n",
      "Columns: id, ingredients_cost, deleted, purchasble, operation_cost, purchase_price, sales_price, sku, material_id, organization, product_id\n",
      "Table: warhouse\n",
      "Columns: id, email, is_active, is_deleted, is_primary, phone_number, warhouse_name, warhouse_address, organization\n"
     ]
    }
   ],
   "source": [
    "conn = connect_to_database()\n",
    "database_schema_dict = get_database_info(conn)\n",
    "database_schema_string = \"\\n\".join(\n",
    "    [\n",
    "        f\"Table: {table['table_name']}\\nColumns: {', '.join(table['column_names'])}\"\n",
    "        for table in database_schema_dict\n",
    "    ]\n",
    ")\n",
    "print(database_schema_string)\n"
   ]
  },
  {
   "cell_type": "code",
   "execution_count": 18,
   "id": "86c4c2b6-e6b8-467e-be57-b3712151ebdc",
   "metadata": {},
   "outputs": [],
   "source": [
    "tools = [\n",
    "    {\n",
    "        \"type\": \"function\",\n",
    "        \"function\": {\n",
    "            \"name\": \"ask_database\",\n",
    "            \"description\": \"Use this function to answer user questions about music. Input should be a fully formed SQL query.\",\n",
    "            \"parameters\": {\n",
    "                \"type\": \"object\",\n",
    "                \"properties\": {\n",
    "                    \"query\": {\n",
    "                        \"type\": \"string\",\n",
    "                        \"description\": f\"\"\"\n",
    "                                SQL query extracting info to answer the user's question.\n",
    "                                SQL should be written using this database schema:\n",
    "                                {database_schema_string}\n",
    "                                The query should be returned in plain text, not in JSON.\n",
    "                                \"\"\",\n",
    "                    }\n",
    "                },\n",
    "                \"required\": [\"query\"],\n",
    "            },\n",
    "        }\n",
    "    }\n",
    "]"
   ]
  },
  {
   "cell_type": "code",
   "execution_count": 21,
   "id": "8ec7a931-567e-4e52-ad52-f4b2c137c350",
   "metadata": {},
   "outputs": [],
   "source": [
    "def ask_database(conn,query):\n",
    "    conn = connect_to_database()\n",
    "    cursor = conn.cursor()\n",
    "    cursor.execute(query)\n",
    "    result = cursor.fetchall()\n",
    "    return str(result)\n"
   ]
  },
  {
   "cell_type": "code",
   "execution_count": 11,
   "id": "b879f945-f2e2-4e6c-8b9b-75e741103cff",
   "metadata": {},
   "outputs": [
    {
     "name": "stdout",
     "output_type": "stream",
     "text": [
      "ChatCompletionMessage(content=None, role='assistant', function_call=None, tool_calls=[ChatCompletionMessageToolCall(id='call_BGlDsAlpgC0OIRFefh91KCBg', function=Function(arguments='{\"query\":\"SELECT name, unit, sales_price FROM product ORDER BY sales_price DESC LIMIT 3;\"}', name='ask_database'), type='function')])\n"
     ]
    }
   ],
   "source": [
    "messages = [\n",
    "    {\"role\": \"system\", \"content\": \"You are a helpful assistant connected to a MySQL database.\"},\n",
    "    {\"role\": \"user\", \"content\": \"Give me the top 3 product pricing\"}\n",
    "]\n",
    "response = call_openai_function_calling(messages,tools)\n",
    "\n",
    "response_message = response.choices[0].message\n",
    "\n",
    "print(response_message)"
   ]
  },
  {
   "cell_type": "code",
   "execution_count": 34,
   "id": "3df9ee48-c8b3-4731-8125-eb3fd3344d69",
   "metadata": {},
   "outputs": [
    {
     "ename": "TypeError",
     "evalue": "JSONEncoder.__init__() got an unexpected keyword argument 'use_decimal'",
     "output_type": "error",
     "traceback": [
      "\u001b[0;31m---------------------------------------------------------------------------\u001b[0m",
      "\u001b[0;31mTypeError\u001b[0m                                 Traceback (most recent call last)",
      "Cell \u001b[0;32mIn[34], line 36\u001b[0m\n\u001b[1;32m     29\u001b[0m \u001b[38;5;28;01mif\u001b[39;00m tool_function_name \u001b[38;5;241m==\u001b[39m \u001b[38;5;124m'\u001b[39m\u001b[38;5;124mask_database\u001b[39m\u001b[38;5;124m'\u001b[39m:\n\u001b[1;32m     30\u001b[0m      results \u001b[38;5;241m=\u001b[39m execute_query(conn,tool_query_string)\n\u001b[1;32m     32\u001b[0m      messages\u001b[38;5;241m.\u001b[39mappend({\n\u001b[1;32m     33\u001b[0m        \u001b[38;5;124m\"\u001b[39m\u001b[38;5;124mrole\u001b[39m\u001b[38;5;124m\"\u001b[39m:\u001b[38;5;124m\"\u001b[39m\u001b[38;5;124mtool\u001b[39m\u001b[38;5;124m\"\u001b[39m, \n\u001b[1;32m     34\u001b[0m        \u001b[38;5;124m\"\u001b[39m\u001b[38;5;124mtool_call_id\u001b[39m\u001b[38;5;124m\"\u001b[39m:tool_call_id, \n\u001b[1;32m     35\u001b[0m        \u001b[38;5;124m\"\u001b[39m\u001b[38;5;124mname\u001b[39m\u001b[38;5;124m\"\u001b[39m: tool_function_name, \n\u001b[0;32m---> 36\u001b[0m        \u001b[38;5;124m\"\u001b[39m\u001b[38;5;124mcontent\u001b[39m\u001b[38;5;124m\"\u001b[39m:\u001b[43mjson\u001b[49m\u001b[38;5;241;43m.\u001b[39;49m\u001b[43mdumps\u001b[49m\u001b[43m(\u001b[49m\u001b[43mresults\u001b[49m\u001b[43m,\u001b[49m\u001b[43m \u001b[49m\u001b[43muse_decimal\u001b[49m\u001b[38;5;241;43m=\u001b[39;49m\u001b[38;5;28;43;01mTrue\u001b[39;49;00m\u001b[43m)\u001b[49m\n\u001b[1;32m     37\u001b[0m    })\n\u001b[1;32m     39\u001b[0m      model_response \u001b[38;5;241m=\u001b[39m call_openai_function_calling(messages\u001b[38;5;241m=\u001b[39mmessages, tools \u001b[38;5;241m=\u001b[39m tools)\n\u001b[1;32m     40\u001b[0m      \u001b[38;5;28mprint\u001b[39m(model_response\u001b[38;5;241m.\u001b[39mchioces[\u001b[38;5;241m0\u001b[39m]\u001b[38;5;241m.\u001b[39mcontent)\n",
      "File \u001b[0;32m/usr/lib/python3.10/json/__init__.py:234\u001b[0m, in \u001b[0;36mdumps\u001b[0;34m(obj, skipkeys, ensure_ascii, check_circular, allow_nan, cls, indent, separators, default, sort_keys, **kw)\u001b[0m\n\u001b[1;32m    232\u001b[0m \u001b[38;5;28;01mif\u001b[39;00m \u001b[38;5;28mcls\u001b[39m \u001b[38;5;129;01mis\u001b[39;00m \u001b[38;5;28;01mNone\u001b[39;00m:\n\u001b[1;32m    233\u001b[0m     \u001b[38;5;28mcls\u001b[39m \u001b[38;5;241m=\u001b[39m JSONEncoder\n\u001b[0;32m--> 234\u001b[0m \u001b[38;5;28;01mreturn\u001b[39;00m \u001b[38;5;28;43mcls\u001b[39;49m\u001b[43m(\u001b[49m\n\u001b[1;32m    235\u001b[0m \u001b[43m    \u001b[49m\u001b[43mskipkeys\u001b[49m\u001b[38;5;241;43m=\u001b[39;49m\u001b[43mskipkeys\u001b[49m\u001b[43m,\u001b[49m\u001b[43m \u001b[49m\u001b[43mensure_ascii\u001b[49m\u001b[38;5;241;43m=\u001b[39;49m\u001b[43mensure_ascii\u001b[49m\u001b[43m,\u001b[49m\n\u001b[1;32m    236\u001b[0m \u001b[43m    \u001b[49m\u001b[43mcheck_circular\u001b[49m\u001b[38;5;241;43m=\u001b[39;49m\u001b[43mcheck_circular\u001b[49m\u001b[43m,\u001b[49m\u001b[43m \u001b[49m\u001b[43mallow_nan\u001b[49m\u001b[38;5;241;43m=\u001b[39;49m\u001b[43mallow_nan\u001b[49m\u001b[43m,\u001b[49m\u001b[43m \u001b[49m\u001b[43mindent\u001b[49m\u001b[38;5;241;43m=\u001b[39;49m\u001b[43mindent\u001b[49m\u001b[43m,\u001b[49m\n\u001b[1;32m    237\u001b[0m \u001b[43m    \u001b[49m\u001b[43mseparators\u001b[49m\u001b[38;5;241;43m=\u001b[39;49m\u001b[43mseparators\u001b[49m\u001b[43m,\u001b[49m\u001b[43m \u001b[49m\u001b[43mdefault\u001b[49m\u001b[38;5;241;43m=\u001b[39;49m\u001b[43mdefault\u001b[49m\u001b[43m,\u001b[49m\u001b[43m \u001b[49m\u001b[43msort_keys\u001b[49m\u001b[38;5;241;43m=\u001b[39;49m\u001b[43msort_keys\u001b[49m\u001b[43m,\u001b[49m\n\u001b[1;32m    238\u001b[0m \u001b[43m    \u001b[49m\u001b[38;5;241;43m*\u001b[39;49m\u001b[38;5;241;43m*\u001b[39;49m\u001b[43mkw\u001b[49m\u001b[43m)\u001b[49m\u001b[38;5;241m.\u001b[39mencode(obj)\n",
      "\u001b[0;31mTypeError\u001b[0m: JSONEncoder.__init__() got an unexpected keyword argument 'use_decimal'"
     ]
    }
   ],
   "source": [
    "tools_call = response_message.tool_calls\n",
    "\n",
    "if tools_call:\n",
    "     tool_call_id = tools_call[0].id\n",
    "     tool_function_name = tools_call[0].function.name\n",
    "     tool_query_string = \"\"\"\n",
    "     SELECT \n",
    "    CASE \n",
    "        WHEN p.id IS NOT NULL THEN p.name\n",
    "        ELSE m.name\n",
    "    END AS product_name,\n",
    "    SUM(ir.item_total) AS total_revenue,\n",
    "    COUNT(DISTINCT i.id) AS number_of_sales\n",
    "FROM sales_order_row ir\n",
    "JOIN sales_order i ON ir.sales_order = i.id\n",
    "LEFT JOIN variant v ON ir.variant = v.id\n",
    "LEFT JOIN product p ON v.product_id = p.id\n",
    "LEFT JOIN material m ON v.material_id = m.id\n",
    "WHERE i.organization = UNHEX(REPLACE(\"7f366021-c66a-4fdc-99ae-bdfce2113cb2\", \"-\", \"\"))\n",
    "    AND i.sales_order_date IS NOT NULL\n",
    "GROUP BY \n",
    "    CASE \n",
    "        WHEN p.id IS NOT NULL THEN p.name\n",
    "        ELSE m.name\n",
    "    END\n",
    "ORDER BY total_revenue DESC\n",
    "LIMIT 10;\n",
    "     \"\"\"\n",
    "     if tool_function_name == 'ask_database':\n",
    "          results = execute_query(conn,tool_query_string)\n",
    "          \n",
    "          messages.append({\n",
    "            \"role\":\"tool\", \n",
    "            \"tool_call_id\":tool_call_id, \n",
    "            \"name\": tool_function_name, \n",
    "            \"content\":json.dumps(results, use_decimal=True)\n",
    "        })\n",
    "\n",
    "          model_response = call_openai_function_calling(messages=messages, tools = tools)\n",
    "          print(model_response.chioces[0].content)\n",
    "     else: \n",
    "            print(f\"Error: function {tool_function_name} does not exist\")\n",
    "else:\n",
    "     print(response_message.content)\n",
    "         \n",
    "\n",
    "\n",
    "\n",
    "\n",
    "# By using Chatbot \n",
    "# Use Funtion inside the SQL Call the Function \n",
    "\n",
    "    \n",
    "             \n",
    "         \n",
    "          \n",
    "         "
   ]
  },
  {
   "cell_type": "code",
   "execution_count": 23,
   "id": "368a3662-53c3-4163-97db-23421faa8917",
   "metadata": {},
   "outputs": [
    {
     "name": "stdout",
     "output_type": "stream",
     "text": [
      "<function ask_database at 0x7e191c484670>\n"
     ]
    }
   ],
   "source": [
    "print(ask_database)"
   ]
  }
 ],
 "metadata": {
  "kernelspec": {
   "display_name": "Python 3 (ipykernel)",
   "language": "python",
   "name": "python3"
  },
  "language_info": {
   "codemirror_mode": {
    "name": "ipython",
    "version": 3
   },
   "file_extension": ".py",
   "mimetype": "text/x-python",
   "name": "python",
   "nbconvert_exporter": "python",
   "pygments_lexer": "ipython3",
   "version": "3.10.12"
  }
 },
 "nbformat": 4,
 "nbformat_minor": 5
}
