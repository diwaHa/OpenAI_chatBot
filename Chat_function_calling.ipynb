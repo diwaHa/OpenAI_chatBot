{
 "cells": [
  {
   "cell_type": "markdown",
   "id": "1b3cc27c-7aef-4318-80ff-a1c0129d2fd5",
   "metadata": {},
   "source": [
    "# Function calling Using OpenAPI Using\n",
    "\n",
    "1. Adding Function\n",
    "\n",
    "2. Multiplication Function\n",
    "\n",
    "3. Subraction Function\n",
    "\n",
    "4. Division Function\n",
    "\n",
    "5. Modulus Function\n",
    "   \n",
    "6. odd and Even Function"
   ]
  },
  {
   "cell_type": "code",
   "execution_count": 1,
   "id": "57df6007-31db-491c-84a6-f1a8627a3508",
   "metadata": {},
   "outputs": [],
   "source": [
    "import os\n",
    "import json\n",
    "from openai import AzureOpenAI\n",
    "from datetime import datetime\n",
    "from zoneinfo import ZoneInfo\n",
    "import pytz\n",
    "from dotenv import load_dotenv"
   ]
  },
  {
   "cell_type": "code",
   "execution_count": 2,
   "id": "f17c243e-ef69-43ea-b1d5-c810fda1e173",
   "metadata": {},
   "outputs": [
    {
     "data": {
      "text/plain": [
       "True"
      ]
     },
     "execution_count": 2,
     "metadata": {},
     "output_type": "execute_result"
    }
   ],
   "source": [
    "load_dotenv()"
   ]
  },
  {
   "cell_type": "code",
   "execution_count": 3,
   "id": "dc8e0ca3-d125-4c8f-9fa7-e445ae868f8c",
   "metadata": {},
   "outputs": [],
   "source": [
    "endpoint = os.environ.get('ENDPOINT_URL')\n",
    "deployment = os.environ.get('DEPLOYMENT_NAME')\n",
    "api_key = os.environ.get('AZURE_OPENAI_KEY')"
   ]
  },
  {
   "cell_type": "code",
   "execution_count": 4,
   "id": "c8b01d9f-7f6c-4eb9-9f61-46a938f01a5f",
   "metadata": {},
   "outputs": [],
   "source": [
    "client = AzureOpenAI(\n",
    "    azure_endpoint=endpoint,\n",
    "    api_key=api_key,\n",
    "    api_version=\"2023-07-01-preview\"\n",
    ")"
   ]
  },
  {
   "cell_type": "code",
   "execution_count": 5,
   "id": "fafb768c-20a2-4e7a-a9a6-f1858ea0b54a",
   "metadata": {},
   "outputs": [],
   "source": [
    "tools = [\n",
    "    {\n",
    "         \"type\": \"function\",\n",
    "        \"function\": {\n",
    "            \"name\": \"add\",\n",
    "            \"description\": \"Add two numbers together , if not any number given ask for number.\",\n",
    "            \"parameters\": {\n",
    "                \"type\": \"object\",\n",
    "                \"properties\": {\n",
    "                    \"a\": {\"type\": \"number\"},\n",
    "                    \"b\": {\"type\": \"number\"}\n",
    "                },\n",
    "                \"required\": [\"a\", \"b\"]\n",
    "            }\n",
    "        }\n",
    "    },\n",
    "    {\n",
    "        \"type\": \"function\",\n",
    "        \"function\": {\n",
    "        \"name\": \"subtract\",\n",
    "        \"description\": \"Subtract the second number from the first.\",\n",
    "        \"parameters\": {\n",
    "            \"type\": \"object\",\n",
    "            \"properties\": {\n",
    "                \"a\": {\"type\": \"number\"},\n",
    "                \"b\": {\"type\": \"number\"}\n",
    "            },\n",
    "            \"required\": [\"a\", \"b\"]\n",
    "            }\n",
    "        },\n",
    "\n",
    "    },\n",
    "    {\n",
    "        \"type\": \"function\",\n",
    "        \"function\": {\n",
    "        \"name\": \"multiply\",\n",
    "        \"description\": \"Multiply two numbers together.\",\n",
    "        \"parameters\": {\n",
    "            \"type\": \"object\",\n",
    "            \"properties\": {\n",
    "                \"a\": {\"type\": \"number\"},\n",
    "                \"b\": {\"type\": \"number\"}\n",
    "            },\n",
    "            \"required\": [\"a\", \"b\"]\n",
    "          },\n",
    "\n",
    "       },\n",
    "    },\n",
    "    {\n",
    "        \"type\": \"function\",\n",
    "        \"function\": {\n",
    "        \"name\": \"divide\",\n",
    "        \"description\": \"Divide the first number by the second.\",\n",
    "        \"parameters\": {\n",
    "            \"type\": \"object\",\n",
    "            \"properties\": {\n",
    "                \"a\": {\"type\": \"number\"},\n",
    "                \"b\": {\"type\": \"number\"}\n",
    "            },\n",
    "            \"required\": [\"a\", \"b\"]\n",
    "           },\n",
    "\n",
    "       },\n",
    "    },\n",
    "    {\n",
    "        \"type\": \"function\",\n",
    "        \"function\": {\n",
    "        \"name\": \"Odd\",\n",
    "        \"description\": \"Provide wheather given number is odd  \",\n",
    "        \"parameters\": {\n",
    "            \"type\": \"object\",\n",
    "            \"properties\": {\n",
    "                \"a\": {\"type\": \"number\"},\n",
    "                \n",
    "            },\n",
    "            \"required\": [\"a\"]\n",
    "           },\n",
    "\n",
    "       },\n",
    "    },\n",
    "    {\n",
    "        \"type\": \"function\",\n",
    "        \"function\": {\n",
    "        \"name\": \"Even\",\n",
    "        \"description\": \"Provide Wheather given number is even \",\n",
    "        \"parameters\": {\n",
    "            \"type\": \"object\",\n",
    "            \"properties\": {\n",
    "                \"a\": {\"type\": \"number\"},\n",
    "            },\n",
    "            \"required\": [\"a\"]\n",
    "           },\n",
    "\n",
    "       },\n",
    "    }\n",
    "  \n",
    "    \n",
    "]\n"
   ]
  },
  {
   "cell_type": "code",
   "execution_count": 6,
   "id": "394b6f2a-844a-4347-808c-e9081d64e0b9",
   "metadata": {},
   "outputs": [],
   "source": [
    "def add(a, b):\n",
    "    return a+b;\n",
    "\n",
    "def subtract(a,b):\n",
    "    return a-b;\n",
    "\n",
    "def multiply(a,b):\n",
    "    return a*b;\n",
    "\n",
    "def divide(a,b):\n",
    "    return a / b;\n"
   ]
  },
  {
   "cell_type": "code",
   "execution_count": 7,
   "id": "b637f565-fe2b-44d3-b6f0-445aeaf2d0a4",
   "metadata": {},
   "outputs": [],
   "source": [
    "def execute_function(function_name, function_args):\n",
    "    if function_name == \"add\":\n",
    "        return add(**function_args)\n",
    "    elif function_name == \"subtract\":\n",
    "        return subtract(**function_args)\n",
    "    elif function_name == \"multiply\":\n",
    "        return multiply(**function_args)\n",
    "    elif function_name == \"divide\":\n",
    "        return divide(**function_args)\n",
    "    else:\n",
    "        return \"Function not recognized.\""
   ]
  },
  {
   "cell_type": "code",
   "execution_count": 8,
   "id": "5bd6e330-b654-41e9-9f9e-ffd51a0ec787",
   "metadata": {},
   "outputs": [],
   "source": [
    "def call_openai_function_calling(messages, tools):\n",
    "    response = client.chat.completions.create(\n",
    "        model=deployment,\n",
    "        messages=messages,\n",
    "        tools = tools,\n",
    "        tool_choice=\"auto\",\n",
    "        temperature=0\n",
    "    )\n",
    "    return response"
   ]
  },
  {
   "cell_type": "code",
   "execution_count": 21,
   "id": "8c892a28-9b4a-4c28-ab05-dd7dd61e987b",
   "metadata": {},
   "outputs": [],
   "source": [
    "# Function to get a chat response from OpenAI\n",
    "def get_chat_response(prompt, messages):\n",
    "    # Initialize messages with system role\n",
    "    messages.append({\"role\": \"user\", \"content\": prompt})\n",
    "\n",
    "    # Get the response from OpenAI\n",
    "    response = call_openai_function_calling(messages, tools)\n",
    "    response_message = response.choices[0].message\n",
    "    messages.append(response_message)\n",
    "\n",
    "    # Check if there is a function call\n",
    "    function_call = response_message.tool_calls\n",
    "\n",
    "    if function_call:\n",
    "        # Get the function name and arguments\n",
    "        function_name = function_call[0].function.name\n",
    "        function_args = json.loads(function_call[0].function.arguments)\n",
    "\n",
    "        # Execute the function and store the result\n",
    "        function_result = execute_function(function_name, function_args)\n",
    "\n",
    "        # Append the result of the function execution to the messages\n",
    "        messages.append({\n",
    "            \"tool_call_id\": function_call[0].id,\n",
    "            \"role\": \"tool\",\n",
    "            \"name\": function_name,\n",
    "            \"content\": str(function_result),\n",
    "        })\n",
    "    else:\n",
    "        # No function call, use the response content directly\n",
    "        print(\"No tool calls were made by the model.\")\n",
    "        return response.choices[0].message.content\n",
    "\n",
    "    # Second API call: Get the final response from the model\n",
    "    final_response = call_openai_function_calling(messages, tools)\n",
    "\n",
    "    return final_response.choices[0].message.content\n"
   ]
  },
  {
   "cell_type": "code",
   "execution_count": 26,
   "id": "2fc74176-7637-44ce-9163-71d5e6a4adfa",
   "metadata": {},
   "outputs": [
    {
     "name": "stdin",
     "output_type": "stream",
     "text": [
      "You:  10+5\n"
     ]
    },
    {
     "name": "stdout",
     "output_type": "stream",
     "text": [
      "Assistant: The result of 10 + 5 is 15.\n"
     ]
    },
    {
     "name": "stdin",
     "output_type": "stream",
     "text": [
      "You:  quit\n"
     ]
    },
    {
     "name": "stdout",
     "output_type": "stream",
     "text": [
      "Chat session ended.\n"
     ]
    }
   ],
   "source": [
    "# Main loop for interaction\n",
    "def chat_main():\n",
    " messages = [\n",
    "        {\"role\": \"system\", \"content\": \"You are a helpful assistant.\"}\n",
    "     ]\n",
    " while True:\n",
    "    user_input = input(\"You: \")\n",
    "    if user_input.lower() in [\"exit\", \"quit\"]:\n",
    "        print(\"Chat session ended.\")\n",
    "        break\n",
    "    response = get_chat_response(user_input, messages)\n",
    "    print(f\"Assistant: {response}\")\n",
    "\n",
    "chat_main()"
   ]
  }
 ],
 "metadata": {
  "kernelspec": {
   "display_name": "Python 3 (ipykernel)",
   "language": "python",
   "name": "python3"
  },
  "language_info": {
   "codemirror_mode": {
    "name": "ipython",
    "version": 3
   },
   "file_extension": ".py",
   "mimetype": "text/x-python",
   "name": "python",
   "nbconvert_exporter": "python",
   "pygments_lexer": "ipython3",
   "version": "3.10.12"
  }
 },
 "nbformat": 4,
 "nbformat_minor": 5
}
