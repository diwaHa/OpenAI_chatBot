{
 "cells": [
  {
   "cell_type": "code",
   "execution_count": 1,
   "id": "21dc4aeb-392f-4b6d-90c6-447d27e77812",
   "metadata": {},
   "outputs": [],
   "source": [
    "!pip install pytz -q"
   ]
  },
  {
   "cell_type": "code",
   "execution_count": 2,
   "id": "db8126fc-a7b0-4483-b106-c49b1a99d6a2",
   "metadata": {},
   "outputs": [],
   "source": [
    "import os\n",
    "import json\n",
    "from openai import AzureOpenAI\n",
    "from datetime import datetime\n",
    "from zoneinfo import ZoneInfo\n",
    "import pytz\n",
    "from dotenv import load_dotenv"
   ]
  },
  {
   "cell_type": "code",
   "execution_count": 5,
   "id": "62f35ed1-c5b1-4420-ac9c-f98e1f9c333a",
   "metadata": {},
   "outputs": [],
   "source": [
    "endpoint = os.environ.get('ENDPOINT_URL')\n",
    "deployment = os.environ.get('DEPLOYMENT_NAME')\n",
    "api_key = os.environ.get('AZURE_OPENAI_KEY')"
   ]
  },
  {
   "cell_type": "code",
   "execution_count": 4,
   "id": "d8a9c1aa-f88d-4e46-814e-f1fa40b77a1f",
   "metadata": {},
   "outputs": [
    {
     "data": {
      "text/plain": [
       "True"
      ]
     },
     "execution_count": 4,
     "metadata": {},
     "output_type": "execute_result"
    }
   ],
   "source": [
    "load_dotenv()"
   ]
  },
  {
   "cell_type": "code",
   "execution_count": 6,
   "id": "54498ce2-a008-4417-82f8-44d1e9ca28f5",
   "metadata": {},
   "outputs": [],
   "source": [
    "client = AzureOpenAI(\n",
    "    azure_endpoint=endpoint,\n",
    "    api_key=api_key,\n",
    "    api_version=\"2023-07-01-preview\"\n",
    ")"
   ]
  },
  {
   "cell_type": "code",
   "execution_count": 7,
   "id": "437612e0-013c-47f5-89aa-241b918ced4a",
   "metadata": {},
   "outputs": [],
   "source": [
    "TIMEZONE_DATA = {\n",
    "    \"india\": \"Asia/kolkata\",\n",
    "    \"tokyo\": \"Asia/Tokyo\",\n",
    "    \"san francisco\": \"America/Los_Angeles\",\n",
    "    \"paris\": \"Europe/Paris\",\n",
    "    \n",
    "}"
   ]
  },
  {
   "cell_type": "code",
   "execution_count": 8,
   "id": "4f70af06-ab4c-490b-af77-c709d7096687",
   "metadata": {},
   "outputs": [],
   "source": [
    "def get_current_time(location):\n",
    "    \"\"\"Get the current time for a given location\"\"\"\n",
    "    print(f\"get_current_time called with location: {location}\") \n",
    "    location_lower = location.lower()\n",
    "    \n",
    "    for key, timezone in TIMEZONE_DATA.items():\n",
    "        print(f\"Checking key: {key} in location: {location_lower}\")\n",
    "        if key in location_lower:\n",
    "            print(f\"Timezone found for {key}\")  \n",
    "            tz = pytz.timezone(timezone)\n",
    "            current_time = datetime.now(tz).strftime(\"%I:%M %p\")\n",
    "            return json.dumps({\n",
    "                \"location\": location,\n",
    "                \"current_time\": current_time\n",
    "            })\n",
    "    \n",
    "    print(f\"No timezone data found for {location_lower}\")  \n",
    "    return json.dumps({\"location\": location, \"current_time\": \"unknown\"})"
   ]
  },
  {
   "cell_type": "code",
   "execution_count": 10,
   "id": "5065c497-6ac3-42b6-a4d5-607993c318fb",
   "metadata": {},
   "outputs": [
    {
     "name": "stdout",
     "output_type": "stream",
     "text": [
      "get_current_time called with location: india\n",
      "Checking key: india in location: india\n",
      "Timezone found for india\n",
      "{\"location\": \"india\", \"current_time\": \"12:05 PM\"}\n"
     ]
    }
   ],
   "source": [
    "print(get_current_time(\"india\"))"
   ]
  },
  {
   "cell_type": "code",
   "execution_count": 9,
   "id": "6d102b30-95d8-4408-be5e-1a77b60f418b",
   "metadata": {},
   "outputs": [],
   "source": [
    "# Define the function for the model\n",
    "tools = [\n",
    "        {\n",
    "            \"type\": \"function\",\n",
    "            \"function\": {\n",
    "                \"name\": \"get_current_time\",\n",
    "                \"description\": \"Get the current time in a given location\",\n",
    "                \"parameters\": {\n",
    "                    \"type\": \"object\",\n",
    "                    \"properties\": {\n",
    "                        \"location\": {\n",
    "                            \"type\": \"string\",\n",
    "                            \"description\": \"The city name, e.g. San Francisco\",\n",
    "                        },\n",
    "                    },\n",
    "                    \"required\": [\"location\"],\n",
    "                },\n",
    "            }\n",
    "        }\n",
    "    ]"
   ]
  },
  {
   "cell_type": "code",
   "execution_count": 10,
   "id": "05ed65ee-ea9a-4cb4-b979-b594b5406c21",
   "metadata": {},
   "outputs": [],
   "source": [
    "def call_openai_function_calling(messages, tools):\n",
    "    response = client.chat.completions.create(\n",
    "        model=deployment,\n",
    "        messages=messages,\n",
    "        tools = tools,\n",
    "        tool_choice=\"auto\",\n",
    "        \n",
    "    )\n",
    "    return response"
   ]
  },
  {
   "cell_type": "code",
   "execution_count": 26,
   "id": "68716f3a-8eb2-4d01-8eb7-b2536a3ccfaf",
   "metadata": {},
   "outputs": [],
   "source": [
    "def run_conversation(prompt):\n",
    "    # Initial user message\n",
    "    messages = [{\"role\": \"system\", \"content\": \"You are helpful asssitant were you provide Current time as per Given Location\"},\n",
    "               {\"role\" : \"user\" , \"content\": prompt}\n",
    "               ] # Single function call\n",
    "    \n",
    "\n",
    "    # Process the model's response\n",
    "    response = call_openai_function_calling(messages,tools)\n",
    "\n",
    "    response_message = response.choices[0].message\n",
    "    print(response_message)\n",
    "    messages.append(response_message)\n",
    "    \n",
    "    if response_message.tool_calls:\n",
    "        for tool_call in response_message.tool_calls:\n",
    "            if tool_call.function.name == \"get_current_time\":\n",
    "                function_args = json.loads(tool_call.function.arguments)\n",
    "                print(f\"Function arguments: {function_args}\")  \n",
    "                time_response = get_current_time(\n",
    "                    location=function_args.get(\"location\")\n",
    "                )\n",
    "                messages.append({\n",
    "                    \"tool_call_id\": tool_call.id,\n",
    "                    \"role\": \"tool\",\n",
    "                    \"name\": \"get_current_time\",\n",
    "                    \"content\": time_response,\n",
    "                })\n",
    "    else:\n",
    "        print(\"No tool calls were made by the model.\")  \n",
    "        return response.choices[0].message.content\n",
    "\n",
    "    # Second API call: Get the final response from the model\n",
    "    final_response = call_openai_function_calling(messages,tools)\n",
    "\n",
    "    return final_response.choices[0].message.content\n",
    "    \n",
    "\n"
   ]
  },
  {
   "cell_type": "code",
   "execution_count": 28,
   "id": "a3418854-1ad9-45af-8295-cdbb899e539e",
   "metadata": {},
   "outputs": [
    {
     "name": "stdin",
     "output_type": "stream",
     "text": [
      "User:  give me time for india\n"
     ]
    },
    {
     "name": "stdout",
     "output_type": "stream",
     "text": [
      "ChatCompletionMessage(content=None, role='assistant', function_call=None, tool_calls=[ChatCompletionMessageToolCall(id='call_NEmHK7D51wE4iPuWkfsIFAOG', function=Function(arguments='{\"location\":\"India\"}', name='get_current_time'), type='function')])\n",
      "Function arguments: {'location': 'India'}\n",
      "get_current_time called with location: India\n",
      "Checking key: india in location: india\n",
      "Timezone found for india\n",
      "Assistant: The current time in India is 12:24 PM.\n"
     ]
    },
    {
     "name": "stdin",
     "output_type": "stream",
     "text": [
      "User:  for San Francisco\n"
     ]
    },
    {
     "name": "stdout",
     "output_type": "stream",
     "text": [
      "ChatCompletionMessage(content=None, role='assistant', function_call=None, tool_calls=[ChatCompletionMessageToolCall(id='call_GXwClVornYZBCaVN3BuO98dF', function=Function(arguments='{\"location\":\"San Francisco\"}', name='get_current_time'), type='function')])\n",
      "Function arguments: {'location': 'San Francisco'}\n",
      "get_current_time called with location: San Francisco\n",
      "Checking key: india in location: san francisco\n",
      "Checking key: tokyo in location: san francisco\n",
      "Checking key: san francisco in location: san francisco\n",
      "Timezone found for san francisco\n",
      "Assistant: The current time in San Francisco is 11:54 PM.\n"
     ]
    },
    {
     "name": "stdin",
     "output_type": "stream",
     "text": [
      "User:  quit\n"
     ]
    },
    {
     "name": "stdout",
     "output_type": "stream",
     "text": [
      "Chat Session Ended!....\n"
     ]
    }
   ],
   "source": [
    "while True :\n",
    "    user_input = input(\"User: \")\n",
    "    if user_input.lower() in [\"exit\",\"quit\"]:\n",
    "        print(\"Chat Session Ended!....\")\n",
    "        break\n",
    "    response = run_conversation(user_input)\n",
    "    print(f\"Assistant: {response}\")"
   ]
  },
  {
   "cell_type": "code",
   "execution_count": 19,
   "id": "e68e2141-4035-478d-8ecc-b6b2d2e21fe3",
   "metadata": {},
   "outputs": [
    {
     "name": "stdout",
     "output_type": "stream",
     "text": [
      "<class 'function'>\n"
     ]
    }
   ],
   "source": [
    "print(type(run_conversation))"
   ]
  }
 ],
 "metadata": {
  "kernelspec": {
   "display_name": "Python 3 (ipykernel)",
   "language": "python",
   "name": "python3"
  },
  "language_info": {
   "codemirror_mode": {
    "name": "ipython",
    "version": 3
   },
   "file_extension": ".py",
   "mimetype": "text/x-python",
   "name": "python",
   "nbconvert_exporter": "python",
   "pygments_lexer": "ipython3",
   "version": "3.10.12"
  }
 },
 "nbformat": 4,
 "nbformat_minor": 5
}
